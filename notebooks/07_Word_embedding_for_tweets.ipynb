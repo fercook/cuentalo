{
 "cells": [
  {
   "cell_type": "markdown",
   "metadata": {},
   "source": [
    "## In this notebook we are going to try to classify the tweets in subcategories\n",
    "\n",
    "The categories are going to be described below"
   ]
  },
  {
   "cell_type": "code",
   "execution_count": 84,
   "metadata": {},
   "outputs": [
    {
     "data": {
      "text/plain": [
       "'/Users/fserra/BSC/cuentalo/cuentalo/notebooks'"
      ]
     },
     "execution_count": 84,
     "metadata": {},
     "output_type": "execute_result"
    }
   ],
   "source": [
    "import os\n",
    "\n",
    "os.getcwd()"
   ]
  },
  {
   "cell_type": "code",
   "execution_count": 85,
   "metadata": {},
   "outputs": [],
   "source": [
    "import numpy as np\n",
    "np.random.seed(0)\n",
    "from keras.models import Model\n",
    "from keras.layers import Dense, Input, Dropout, LSTM, Activation\n",
    "from keras.layers.embeddings import Embedding\n",
    "from keras.preprocessing import sequence\n",
    "from keras.initializers import glorot_uniform\n",
    "np.random.seed(1)"
   ]
  },
  {
   "cell_type": "markdown",
   "metadata": {},
   "source": [
    "#### We need to use padding to set all sentences to the same length"
   ]
  },
  {
   "cell_type": "code",
   "execution_count": 86,
   "metadata": {},
   "outputs": [],
   "source": [
    "# word_to_index = dictionary_of_words mapped to their index "
   ]
  },
  {
   "cell_type": "code",
   "execution_count": 87,
   "metadata": {
    "scrolled": true
   },
   "outputs": [],
   "source": [
    "import json\n",
    "with open('dict_of_words.json') as json_data:\n",
    "    dict_of_words = json.load(json_data)"
   ]
  },
  {
   "cell_type": "code",
   "execution_count": 88,
   "metadata": {},
   "outputs": [],
   "source": [
    "word_to_index = {k: v for v, k in enumerate(list(dict_of_words.keys()))}"
   ]
  },
  {
   "cell_type": "code",
   "execution_count": null,
   "metadata": {},
   "outputs": [],
   "source": []
  },
  {
   "cell_type": "code",
   "execution_count": 89,
   "metadata": {},
   "outputs": [],
   "source": [
    "word_to_index['UNK'] = len(word_to_index) + 1"
   ]
  },
  {
   "cell_type": "code",
   "execution_count": 90,
   "metadata": {},
   "outputs": [],
   "source": [
    "def sentences_to_indices(X, word_to_index, max_len):\n",
    "    '''\n",
    "    '''\n",
    "    m = X.shape[0]\n",
    "    X_indices = np.zeros((m, max_len))\n",
    "    \n",
    "    for i in range(m):\n",
    "        sentence_words = [word.lower() for word in X[i].split()]\n",
    "        j=0\n",
    "        for w in sentence_words:\n",
    "            if w in list(word_to_index.keys()):\n",
    "                X_indices[i, j] = word_to_index[w]\n",
    "            else:\n",
    "                X_indices[i, j] = word_to_index['UNK']\n",
    "            j+=1\n",
    "    \n",
    "    return X_indices"
   ]
  },
  {
   "cell_type": "code",
   "execution_count": 91,
   "metadata": {},
   "outputs": [],
   "source": [
    "sentence_1 = np.array(['me cago en la puta de oros', 'hola', 'kajsdajk'])\n",
    "indices_1 = sentences_to_indices(sentence_1, word_to_index, 20)"
   ]
  },
  {
   "cell_type": "code",
   "execution_count": 92,
   "metadata": {},
   "outputs": [
    {
     "data": {
      "text/plain": [
       "array([[  1092.,   4097.,  10274., 165613.,   1268.,   1736., 165613.,\n",
       "             0.,      0.,      0.,      0.,      0.,      0.,      0.,\n",
       "             0.,      0.,      0.,      0.,      0.,      0.],\n",
       "       [  3366.,      0.,      0.,      0.,      0.,      0.,      0.,\n",
       "             0.,      0.,      0.,      0.,      0.,      0.,      0.,\n",
       "             0.,      0.,      0.,      0.,      0.,      0.],\n",
       "       [165613.,      0.,      0.,      0.,      0.,      0.,      0.,\n",
       "             0.,      0.,      0.,      0.,      0.,      0.,      0.,\n",
       "             0.,      0.,      0.,      0.,      0.,      0.]])"
      ]
     },
     "execution_count": 92,
     "metadata": {},
     "output_type": "execute_result"
    }
   ],
   "source": [
    "indices_1"
   ]
  },
  {
   "cell_type": "code",
   "execution_count": 93,
   "metadata": {},
   "outputs": [],
   "source": [
    "def pretrained_embedding_layer(word_to_vec_map, word_to_index):\n",
    "    '''\n",
    "    '''\n",
    "    vocab_len = len(word_to_index) + 1\n",
    "    emb_dim = word_to_vec_map['hola'].shape[0]\n",
    "    \n",
    "    emb_matrix = np.zeros((vocab_len, emb_dim))\n",
    "    for word, index in word_to_index.items():\n",
    "        emb_matrix[index, :] = word_to_vec_map[word]\n",
    "    \n",
    "    embedding_layer = Embedding(vocab_len, emb_dim, trainable=False)\n",
    "    embedding_layer.build((None,))\n",
    "    embedding_layer.set_weights([emb_matrix])\n",
    "    return embedding_layer"
   ]
  },
  {
   "cell_type": "code",
   "execution_count": null,
   "metadata": {},
   "outputs": [],
   "source": []
  },
  {
   "cell_type": "code",
   "execution_count": 94,
   "metadata": {},
   "outputs": [
    {
     "data": {
      "text/html": [
       "<div>\n",
       "<style scoped>\n",
       "    .dataframe tbody tr th:only-of-type {\n",
       "        vertical-align: middle;\n",
       "    }\n",
       "\n",
       "    .dataframe tbody tr th {\n",
       "        vertical-align: top;\n",
       "    }\n",
       "\n",
       "    .dataframe thead th {\n",
       "        text-align: right;\n",
       "    }\n",
       "</style>\n",
       "<table border=\"1\" class=\"dataframe\">\n",
       "  <thead>\n",
       "    <tr style=\"text-align: right;\">\n",
       "      <th></th>\n",
       "      <th>favorite_count</th>\n",
       "      <th>id</th>\n",
       "      <th>lat</th>\n",
       "      <th>lon</th>\n",
       "      <th>parent_favorite_count</th>\n",
       "      <th>parent_id</th>\n",
       "      <th>parent_lat</th>\n",
       "      <th>parent_lon</th>\n",
       "      <th>parent_quote_count</th>\n",
       "      <th>parent_retweet_count</th>\n",
       "      <th>parent_user_followers_count</th>\n",
       "      <th>parent_user_id</th>\n",
       "      <th>parent_user_statuses_count</th>\n",
       "      <th>quote_count</th>\n",
       "      <th>retweet_count</th>\n",
       "      <th>user_followers_count</th>\n",
       "      <th>user_id</th>\n",
       "      <th>user_statuses_count</th>\n",
       "      <th>location_diagnosis</th>\n",
       "      <th>parent_location_diagnosis</th>\n",
       "    </tr>\n",
       "  </thead>\n",
       "  <tbody>\n",
       "    <tr>\n",
       "      <th>count</th>\n",
       "      <td>2.111998e+06</td>\n",
       "      <td>2.111998e+06</td>\n",
       "      <td>2.111998e+06</td>\n",
       "      <td>2.111998e+06</td>\n",
       "      <td>2.111998e+06</td>\n",
       "      <td>2.111998e+06</td>\n",
       "      <td>2.111998e+06</td>\n",
       "      <td>2.111998e+06</td>\n",
       "      <td>2111998.0</td>\n",
       "      <td>2.111998e+06</td>\n",
       "      <td>2.111998e+06</td>\n",
       "      <td>2.111998e+06</td>\n",
       "      <td>2.111998e+06</td>\n",
       "      <td>2111998.0</td>\n",
       "      <td>2.111998e+06</td>\n",
       "      <td>2.111998e+06</td>\n",
       "      <td>2.111998e+06</td>\n",
       "      <td>2.111998e+06</td>\n",
       "      <td>2.111998e+06</td>\n",
       "      <td>2.000661e+06</td>\n",
       "    </tr>\n",
       "    <tr>\n",
       "      <th>mean</th>\n",
       "      <td>2.029157e+00</td>\n",
       "      <td>9.910709e+17</td>\n",
       "      <td>-1.016308e+03</td>\n",
       "      <td>-1.016308e+03</td>\n",
       "      <td>1.202064e+04</td>\n",
       "      <td>9.385780e+17</td>\n",
       "      <td>-1.016302e+03</td>\n",
       "      <td>-1.016302e+03</td>\n",
       "      <td>-1.0</td>\n",
       "      <td>6.586915e+03</td>\n",
       "      <td>2.151193e+04</td>\n",
       "      <td>1.803327e+17</td>\n",
       "      <td>2.386319e+04</td>\n",
       "      <td>-1.0</td>\n",
       "      <td>6.575469e+03</td>\n",
       "      <td>1.190780e+03</td>\n",
       "      <td>1.990208e+17</td>\n",
       "      <td>2.445627e+04</td>\n",
       "      <td>3.996142e+00</td>\n",
       "      <td>4.323881e+00</td>\n",
       "    </tr>\n",
       "    <tr>\n",
       "      <th>std</th>\n",
       "      <td>1.513535e+02</td>\n",
       "      <td>6.537200e+14</td>\n",
       "      <td>1.750235e+01</td>\n",
       "      <td>1.753262e+01</td>\n",
       "      <td>1.673897e+04</td>\n",
       "      <td>2.214261e+17</td>\n",
       "      <td>1.764728e+01</td>\n",
       "      <td>1.766846e+01</td>\n",
       "      <td>0.0</td>\n",
       "      <td>1.018583e+04</td>\n",
       "      <td>2.434805e+05</td>\n",
       "      <td>3.496776e+17</td>\n",
       "      <td>4.082015e+04</td>\n",
       "      <td>0.0</td>\n",
       "      <td>1.017846e+04</td>\n",
       "      <td>2.975579e+04</td>\n",
       "      <td>3.652792e+17</td>\n",
       "      <td>4.358996e+04</td>\n",
       "      <td>6.456736e+00</td>\n",
       "      <td>6.407519e+00</td>\n",
       "    </tr>\n",
       "    <tr>\n",
       "      <th>min</th>\n",
       "      <td>0.000000e+00</td>\n",
       "      <td>9.896707e+17</td>\n",
       "      <td>-9.990000e+02</td>\n",
       "      <td>-9.990000e+02</td>\n",
       "      <td>-1.000000e+00</td>\n",
       "      <td>0.000000e+00</td>\n",
       "      <td>-9.990000e+02</td>\n",
       "      <td>-9.990000e+02</td>\n",
       "      <td>-1.0</td>\n",
       "      <td>-1.000000e+00</td>\n",
       "      <td>-1.000000e+00</td>\n",
       "      <td>0.000000e+00</td>\n",
       "      <td>-1.000000e+00</td>\n",
       "      <td>-1.0</td>\n",
       "      <td>0.000000e+00</td>\n",
       "      <td>0.000000e+00</td>\n",
       "      <td>2.654000e+03</td>\n",
       "      <td>1.000000e+00</td>\n",
       "      <td>-7.000000e+00</td>\n",
       "      <td>-7.000000e+00</td>\n",
       "    </tr>\n",
       "    <tr>\n",
       "      <th>25%</th>\n",
       "      <td>0.000000e+00</td>\n",
       "      <td>9.907925e+17</td>\n",
       "      <td>-9.990000e+02</td>\n",
       "      <td>-9.990000e+02</td>\n",
       "      <td>4.990000e+02</td>\n",
       "      <td>9.904601e+17</td>\n",
       "      <td>-9.990000e+02</td>\n",
       "      <td>-9.990000e+02</td>\n",
       "      <td>-1.0</td>\n",
       "      <td>2.540000e+02</td>\n",
       "      <td>3.370000e+02</td>\n",
       "      <td>2.892574e+08</td>\n",
       "      <td>2.082000e+03</td>\n",
       "      <td>-1.0</td>\n",
       "      <td>2.490000e+02</td>\n",
       "      <td>1.830000e+02</td>\n",
       "      <td>4.554929e+08</td>\n",
       "      <td>4.026000e+03</td>\n",
       "      <td>-1.000000e+00</td>\n",
       "      <td>-1.000000e+00</td>\n",
       "    </tr>\n",
       "    <tr>\n",
       "      <th>50%</th>\n",
       "      <td>0.000000e+00</td>\n",
       "      <td>9.910289e+17</td>\n",
       "      <td>-9.990000e+02</td>\n",
       "      <td>-9.990000e+02</td>\n",
       "      <td>4.873000e+03</td>\n",
       "      <td>9.907799e+17</td>\n",
       "      <td>-9.990000e+02</td>\n",
       "      <td>-9.990000e+02</td>\n",
       "      <td>-1.0</td>\n",
       "      <td>2.618500e+03</td>\n",
       "      <td>8.080000e+02</td>\n",
       "      <td>1.358220e+09</td>\n",
       "      <td>1.037700e+04</td>\n",
       "      <td>-1.0</td>\n",
       "      <td>2.603000e+03</td>\n",
       "      <td>4.290000e+02</td>\n",
       "      <td>1.647582e+09</td>\n",
       "      <td>1.249300e+04</td>\n",
       "      <td>2.000000e+00</td>\n",
       "      <td>3.000000e+00</td>\n",
       "    </tr>\n",
       "    <tr>\n",
       "      <th>75%</th>\n",
       "      <td>0.000000e+00</td>\n",
       "      <td>9.913773e+17</td>\n",
       "      <td>-9.990000e+02</td>\n",
       "      <td>-9.990000e+02</td>\n",
       "      <td>1.575400e+04</td>\n",
       "      <td>9.910347e+17</td>\n",
       "      <td>-9.990000e+02</td>\n",
       "      <td>-9.990000e+02</td>\n",
       "      <td>-1.0</td>\n",
       "      <td>8.166000e+03</td>\n",
       "      <td>2.544000e+03</td>\n",
       "      <td>3.401654e+09</td>\n",
       "      <td>2.771800e+04</td>\n",
       "      <td>-1.0</td>\n",
       "      <td>8.162000e+03</td>\n",
       "      <td>8.750000e+02</td>\n",
       "      <td>4.561256e+09</td>\n",
       "      <td>2.986400e+04</td>\n",
       "      <td>1.200000e+01</td>\n",
       "      <td>1.200000e+01</td>\n",
       "    </tr>\n",
       "    <tr>\n",
       "      <th>max</th>\n",
       "      <td>7.179600e+04</td>\n",
       "      <td>9.954528e+17</td>\n",
       "      <td>3.261765e+00</td>\n",
       "      <td>5.068810e+01</td>\n",
       "      <td>5.248730e+05</td>\n",
       "      <td>9.954446e+17</td>\n",
       "      <td>-5.863086e+01</td>\n",
       "      <td>4.609870e+00</td>\n",
       "      <td>-1.0</td>\n",
       "      <td>2.182120e+05</td>\n",
       "      <td>4.201016e+07</td>\n",
       "      <td>9.944996e+17</td>\n",
       "      <td>8.772982e+06</td>\n",
       "      <td>-1.0</td>\n",
       "      <td>5.548200e+04</td>\n",
       "      <td>1.671811e+07</td>\n",
       "      <td>9.953357e+17</td>\n",
       "      <td>8.772982e+06</td>\n",
       "      <td>2.200000e+01</td>\n",
       "      <td>2.200000e+01</td>\n",
       "    </tr>\n",
       "  </tbody>\n",
       "</table>\n",
       "</div>"
      ],
      "text/plain": [
       "       favorite_count            id           lat           lon  \\\n",
       "count    2.111998e+06  2.111998e+06  2.111998e+06  2.111998e+06   \n",
       "mean     2.029157e+00  9.910709e+17 -1.016308e+03 -1.016308e+03   \n",
       "std      1.513535e+02  6.537200e+14  1.750235e+01  1.753262e+01   \n",
       "min      0.000000e+00  9.896707e+17 -9.990000e+02 -9.990000e+02   \n",
       "25%      0.000000e+00  9.907925e+17 -9.990000e+02 -9.990000e+02   \n",
       "50%      0.000000e+00  9.910289e+17 -9.990000e+02 -9.990000e+02   \n",
       "75%      0.000000e+00  9.913773e+17 -9.990000e+02 -9.990000e+02   \n",
       "max      7.179600e+04  9.954528e+17  3.261765e+00  5.068810e+01   \n",
       "\n",
       "       parent_favorite_count     parent_id    parent_lat    parent_lon  \\\n",
       "count           2.111998e+06  2.111998e+06  2.111998e+06  2.111998e+06   \n",
       "mean            1.202064e+04  9.385780e+17 -1.016302e+03 -1.016302e+03   \n",
       "std             1.673897e+04  2.214261e+17  1.764728e+01  1.766846e+01   \n",
       "min            -1.000000e+00  0.000000e+00 -9.990000e+02 -9.990000e+02   \n",
       "25%             4.990000e+02  9.904601e+17 -9.990000e+02 -9.990000e+02   \n",
       "50%             4.873000e+03  9.907799e+17 -9.990000e+02 -9.990000e+02   \n",
       "75%             1.575400e+04  9.910347e+17 -9.990000e+02 -9.990000e+02   \n",
       "max             5.248730e+05  9.954446e+17 -5.863086e+01  4.609870e+00   \n",
       "\n",
       "       parent_quote_count  parent_retweet_count  parent_user_followers_count  \\\n",
       "count           2111998.0          2.111998e+06                 2.111998e+06   \n",
       "mean                 -1.0          6.586915e+03                 2.151193e+04   \n",
       "std                   0.0          1.018583e+04                 2.434805e+05   \n",
       "min                  -1.0         -1.000000e+00                -1.000000e+00   \n",
       "25%                  -1.0          2.540000e+02                 3.370000e+02   \n",
       "50%                  -1.0          2.618500e+03                 8.080000e+02   \n",
       "75%                  -1.0          8.166000e+03                 2.544000e+03   \n",
       "max                  -1.0          2.182120e+05                 4.201016e+07   \n",
       "\n",
       "       parent_user_id  parent_user_statuses_count  quote_count  retweet_count  \\\n",
       "count    2.111998e+06                2.111998e+06    2111998.0   2.111998e+06   \n",
       "mean     1.803327e+17                2.386319e+04         -1.0   6.575469e+03   \n",
       "std      3.496776e+17                4.082015e+04          0.0   1.017846e+04   \n",
       "min      0.000000e+00               -1.000000e+00         -1.0   0.000000e+00   \n",
       "25%      2.892574e+08                2.082000e+03         -1.0   2.490000e+02   \n",
       "50%      1.358220e+09                1.037700e+04         -1.0   2.603000e+03   \n",
       "75%      3.401654e+09                2.771800e+04         -1.0   8.162000e+03   \n",
       "max      9.944996e+17                8.772982e+06         -1.0   5.548200e+04   \n",
       "\n",
       "       user_followers_count       user_id  user_statuses_count  \\\n",
       "count          2.111998e+06  2.111998e+06         2.111998e+06   \n",
       "mean           1.190780e+03  1.990208e+17         2.445627e+04   \n",
       "std            2.975579e+04  3.652792e+17         4.358996e+04   \n",
       "min            0.000000e+00  2.654000e+03         1.000000e+00   \n",
       "25%            1.830000e+02  4.554929e+08         4.026000e+03   \n",
       "50%            4.290000e+02  1.647582e+09         1.249300e+04   \n",
       "75%            8.750000e+02  4.561256e+09         2.986400e+04   \n",
       "max            1.671811e+07  9.953357e+17         8.772982e+06   \n",
       "\n",
       "       location_diagnosis  parent_location_diagnosis  \n",
       "count        2.111998e+06               2.000661e+06  \n",
       "mean         3.996142e+00               4.323881e+00  \n",
       "std          6.456736e+00               6.407519e+00  \n",
       "min         -7.000000e+00              -7.000000e+00  \n",
       "25%         -1.000000e+00              -1.000000e+00  \n",
       "50%          2.000000e+00               3.000000e+00  \n",
       "75%          1.200000e+01               1.200000e+01  \n",
       "max          2.200000e+01               2.200000e+01  "
      ]
     },
     "execution_count": 94,
     "metadata": {},
     "output_type": "execute_result"
    }
   ],
   "source": [
    "from pandas import read_pickle\n",
    "\n",
    "df = read_pickle('../data/cuentalo_json_con_pais_ciudad_limpios.pkl')\n",
    "df.sample(5)\n",
    "\n",
    "df.describe()"
   ]
  },
  {
   "cell_type": "code",
   "execution_count": 95,
   "metadata": {},
   "outputs": [
    {
     "data": {
      "text/plain": [
       "Index(['country', 'created_at', 'favorite_count', 'full_text', 'id', 'lat',\n",
       "       'location', 'lon', 'parent_country', 'parent_created_at',\n",
       "       'parent_favorite_count', 'parent_full_text', 'parent_id', 'parent_lat',\n",
       "       'parent_location', 'parent_lon', 'parent_place', 'parent_quote_count',\n",
       "       'parent_retweet_count', 'parent_time_zone', 'parent_user_created_at',\n",
       "       'parent_user_followers_count', 'parent_user_id', 'parent_user_name',\n",
       "       'parent_user_screen_name', 'parent_user_statuses_count', 'place',\n",
       "       'quote_count', 'retweet_count', 'time_zone', 'tweet_type',\n",
       "       'user_created_at', 'user_followers_count', 'user_id', 'user_name',\n",
       "       'user_screen_name', 'user_statuses_count', 'ciudad_clean', 'pais_clean',\n",
       "       'location_diagnosis', 'parent_ciudad_clean', 'parent_pais_clean',\n",
       "       'parent_location_diagnosis'],\n",
       "      dtype='object')"
      ]
     },
     "execution_count": 95,
     "metadata": {},
     "output_type": "execute_result"
    }
   ],
   "source": [
    "df.columns"
   ]
  },
  {
   "cell_type": "code",
   "execution_count": 96,
   "metadata": {},
   "outputs": [],
   "source": [
    "df['len'] = df['full_text'].apply(lambda x: len([w for w in x.split(' ')]))"
   ]
  },
  {
   "cell_type": "code",
   "execution_count": 97,
   "metadata": {
    "scrolled": true
   },
   "outputs": [
    {
     "data": {
      "image/png": "[encoded data removed]",
      "text/plain": [
       "<matplotlib.figure.Figure at 0x280e1f198>"
      ]
     },
     "metadata": {},
     "output_type": "display_data"
    }
   ],
   "source": [
    "import matplotlib.pyplot as plt\n",
    "\n",
    "df['len'].hist(bins=100, figsize=(15, 5))\n",
    "\n",
    "plt.axvline(df['len'].median(), color='r', label='Median')\n",
    "plt.axvline(df['len'].median(), color='g', label='Mean')\n",
    "plt.xlim([0, 60])\n",
    "plt.legend()\n",
    "plt.show()"
   ]
  },
  {
   "cell_type": "code",
   "execution_count": null,
   "metadata": {},
   "outputs": [],
   "source": []
  },
  {
   "cell_type": "code",
   "execution_count": null,
   "metadata": {},
   "outputs": [],
   "source": []
  },
  {
   "cell_type": "code",
   "execution_count": null,
   "metadata": {},
   "outputs": [],
   "source": []
  },
  {
   "cell_type": "code",
   "execution_count": null,
   "metadata": {},
   "outputs": [],
   "source": []
  },
  {
   "cell_type": "code",
   "execution_count": null,
   "metadata": {},
   "outputs": [],
   "source": []
  },
  {
   "cell_type": "code",
   "execution_count": 29,
   "metadata": {
    "scrolled": true
   },
   "outputs": [],
   "source": [
    "from nltk.stem import PorterStemmer\n",
    "\n",
    "from nltk.stem import SnowballStemmer\n",
    "stemmer = SnowballStemmer('spanish')"
   ]
  },
  {
   "cell_type": "code",
   "execution_count": 7,
   "metadata": {},
   "outputs": [],
   "source": [
    "# https://github.com/uchile-nlp/spanish-word-embeddings/blob/master/examples/Ejemplo_WordVectors.ipynb\n",
    "    \n",
    "from gensim.models.keyedvectors import KeyedVectors\n",
    "wordvectors_file_vec = '../data/glove-sbwc.i25.vec'\n",
    "cantidad = 100000\n",
    "wordvectors = KeyedVectors.load_word2vec_format(wordvectors_file_vec, limit=cantidad)"
   ]
  },
  {
   "cell_type": "code",
   "execution_count": 8,
   "metadata": {},
   "outputs": [
    {
     "data": {
      "text/plain": [
       "[('reina', 0.9141066670417786),\n",
       " ('isabel', 0.8743278384208679),\n",
       " ('princesa', 0.843113124370575),\n",
       " ('infanta', 0.8425983190536499),\n",
       " ('monarca', 0.8357319831848145),\n",
       " ('hija', 0.8211697340011597),\n",
       " ('consorte', 0.8179485201835632),\n",
       " ('iv', 0.813984215259552),\n",
       " ('esposa', 0.8115167617797852),\n",
       " ('ii', 0.8099035024642944)]"
      ]
     },
     "execution_count": 8,
     "metadata": {},
     "output_type": "execute_result"
    }
   ],
   "source": [
    "wordvectors.most_similar_cosmul(positive=['rey','mujer'],negative=['hombre'])"
   ]
  },
  {
   "cell_type": "code",
   "execution_count": 9,
   "metadata": {
    "scrolled": true
   },
   "outputs": [
    {
     "data": {
      "text/plain": [
       "[('infringir', 0.8262576460838318),\n",
       " ('vulnerar', 0.8064225316047668),\n",
       " ('abusar', 0.7888485789299011),\n",
       " ('violado', 0.7873435020446777),\n",
       " ('amenazar', 0.7842590808868408),\n",
       " ('incumplir', 0.774122953414917),\n",
       " ('atentar', 0.770669162273407),\n",
       " ('agredir', 0.7704819440841675),\n",
       " ('obstaculizar', 0.770205020904541),\n",
       " ('privar', 0.7696232199668884),\n",
       " ('violan', 0.7674556970596313),\n",
       " ('violación', 0.7638621926307678),\n",
       " ('secuestrar', 0.7596122622489929),\n",
       " ('acusado', 0.7497574090957642),\n",
       " ('libertad', 0.7407402396202087),\n",
       " ('pretexto', 0.7400166988372803),\n",
       " ('acusa', 0.7390723824501038),\n",
       " ('lesionar', 0.7389935255050659),\n",
       " ('matar', 0.7385897040367126),\n",
       " ('violen', 0.7361158132553101),\n",
       " ('violando', 0.7354563474655151),\n",
       " ('imponer', 0.7323136925697327),\n",
       " ('interferir', 0.7323079705238342),\n",
       " ('acusada', 0.7322155237197876),\n",
       " ('viola', 0.7317330241203308),\n",
       " ('cometer', 0.7317190766334534),\n",
       " ('asesinar', 0.7314013242721558),\n",
       " ('maltratar', 0.7307785749435425),\n",
       " ('robar', 0.7299070358276367),\n",
       " ('contravenir', 0.7296074628829956)]"
      ]
     },
     "execution_count": 9,
     "metadata": {},
     "output_type": "execute_result"
    }
   ],
   "source": [
    "wordvectors.most_similar_cosmul(positive=['violar'], topn=30)"
   ]
  }
 ],
 "metadata": {
  "kernelspec": {
   "display_name": "Python 3",
   "language": "python",
   "name": "python3"
  },
  "language_info": {
   "codemirror_mode": {
    "name": "ipython",
    "version": 3
   },
   "file_extension": ".py",
   "mimetype": "text/x-python",
   "name": "python",
   "nbconvert_exporter": "python",
   "pygments_lexer": "ipython3",
   "version": "3.6.4"
  }
 },
 "nbformat": 4,
 "nbformat_minor": 2
}
